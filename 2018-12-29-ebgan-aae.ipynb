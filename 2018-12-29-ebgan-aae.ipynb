{
 "cells": [
  {
   "cell_type": "markdown",
   "metadata": {},
   "source": [
    "ganomaly原理存在一定问题\n",
    "并不能保证可靠地学习到正常数据的分布\n",
    "实验性能并不理想，auc不能可靠下降\n",
    "\n",
    "进一步降低ganomaly的nz为100 最大auc0.855\n",
    "archive 0024\n",
    "\n",
    "plot roc曲线 archive 0025\n",
    "\n",
    "尝试ebgan和aae"
   ]
  }
 ],
 "metadata": {
  "kernelspec": {
   "display_name": "Python 3",
   "language": "python",
   "name": "python3"
  },
  "language_info": {
   "codemirror_mode": {
    "name": "ipython",
    "version": 3
   },
   "file_extension": ".py",
   "mimetype": "text/x-python",
   "name": "python",
   "nbconvert_exporter": "python",
   "pygments_lexer": "ipython3",
   "version": "3.6.5"
  }
 },
 "nbformat": 4,
 "nbformat_minor": 2
}
