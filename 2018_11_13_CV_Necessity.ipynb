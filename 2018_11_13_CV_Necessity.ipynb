{
 "cells": [
  {
   "cell_type": "markdown",
   "metadata": {},
   "source": [
    "#  在数据量很大（每类10万样本）的情况下交叉验证（CV）是否有必要\n",
    "\n",
    "在数据量大的情况下CV可能没必要。因为数据很多，测试集中不太可能出现在训练集合中没有遇见过的特殊样本，相反训练集合和测试集合的数据样本分布比较一致。CV仅仅在数据样本数量较小是有比较明显的效果，可以是测试结果稳定可信。\n",
    "\n",
    "在sklearn中Gridsearch和CV被集成到了一起，所以一般进行CV。"
   ]
  }
 ],
 "metadata": {
  "kernelspec": {
   "display_name": "Python 3",
   "language": "python",
   "name": "python3"
  }
 },
 "nbformat": 4,
 "nbformat_minor": 2
}
