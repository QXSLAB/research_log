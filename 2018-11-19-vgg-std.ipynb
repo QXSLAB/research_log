{
 "cells": [
  {
   "cell_type": "markdown",
   "metadata": {},
   "source": [
    "# VGG 的pytorch官方实现（vgg-std）\n",
    "比较vgg-std和vgg的性能差异\n",
    "\n",
    "\n",
    "# vgg-std1 99.49%(5dB snr) lr=0.005\n",
    "\n",
    "confusion matrix: archive 0010\n",
    "\n",
    "code: lower_lr.py (1b94d5e68e5a95407ade59f7c09c619aa7611b2d)\n",
    "\n",
    "\n",
    "# vgg-std1 99.49%(5dB snr) lr=0.01\n",
    "\n",
    "confusion matrix: archive 0011\n",
    "\n",
    "code: vgg-std1.py (1b94d5e68e5a95407ade59f7c09c619aa7611b2d)"
   ]
  }
 ],
 "metadata": {
  "kernelspec": {
   "display_name": "Python 3",
   "language": "python",
   "name": "python3"
  }
 },
 "nbformat": 4,
 "nbformat_minor": 2
}
