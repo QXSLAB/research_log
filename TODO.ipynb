{
 "cells": [
  {
   "cell_type": "markdown",
   "metadata": {},
   "source": [
    "\n",
    "\n",
    "# Debug网络训练过程中loss出现nan\n",
    "可能原因1：最后网络的输出概率中存在0或者1，到时loss计算时候出现nan\n",
    "\n",
    "在on_batch_end中监测 nan 和inf\n",
    "\n",
    "\n",
    "\n",
    "# 4. 构建带有相位噪声的射频数据集合\n",
    "\n",
    "\n",
    "# 5. 明确Dropout加在哪一层\n",
    "\n",
    "\n"
   ]
  }
 ],
 "metadata": {
  "kernelspec": {
   "display_name": "Python 3",
   "language": "python",
   "name": "python3"
  }
 },
 "nbformat": 4,
 "nbformat_minor": 2
}
