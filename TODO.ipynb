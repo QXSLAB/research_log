{
 "cells": [
  {
   "cell_type": "markdown",
   "metadata": {},
   "source": [
    "# 3. 研究VGG的原理及实现 捕捉场特征\n",
    "参考 Over the air Deep learning Based Radio Signal Classification\n",
    "\n",
    "\n",
    "\n",
    "\n",
    "\n",
    "\n",
    "# 4. 构建带有相位噪声的射频数据集合\n",
    "\n",
    "\n",
    "# 5. 明确Dropout加在哪一层\n"
   ]
  }
 ],
 "metadata": {
  "kernelspec": {
   "display_name": "Python 3",
   "language": "python",
   "name": "python3"
  }
 },
 "nbformat": 4,
 "nbformat_minor": 2
}
