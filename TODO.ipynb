{
 "cells": [
  {
   "attachments": {},
   "cell_type": "markdown",
   "metadata": {},
   "source": [
    "# 3. 研究VGG的原理及实现 捕捉场特征\n",
    "参考 Over the air Deep learning Based Radio Signal Classification\n",
    "\n",
    "\n",
    "# 使用Simulink构建5dB DQPSK，OQPSK， PSK8， QPSK \n",
    "根据研究进展汇报2181026.pptx结果，conv1d在5dB时 DQPSK，OQPSK， PSK8， QPSK这四种信号出错概率最高\n",
    "\n",
    "\n",
    "# 4. 构建带有相位噪声的射频数据集合\n",
    "\n",
    "\n",
    "# 5. 明确Dropout加在哪一层\n"
   ]
  }
 ],
 "metadata": {
  "kernelspec": {
   "display_name": "Python 3",
   "language": "python",
   "name": "python3"
  }
 },
 "nbformat": 4,
 "nbformat_minor": 2
}
