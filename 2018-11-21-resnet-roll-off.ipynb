{
 "cells": [
  {
   "cell_type": "markdown",
   "metadata": {},
   "source": [
    "\n",
    "     \n",
    "# Matlab awgchannel设置的信噪比不对\n",
    "设置10db snr，结果实测的snr为1.45dB\n",
    "\n",
    "\n",
    "# 非常有说服力的结果\n",
    "5dＢ　信号肉眼已经不可分了，但是深度学习的识别精度达到了９９.４％\n",
    "\n",
    "\n",
    "# 实现resnet和densenet\n",
    "\n",
    "\n",
    "# 安装visdom以简单的观察loss、accuracy和learn rate的变化\n",
    "\n",
    "# SGD 迷你batch 256\n",
    "\n",
    "# learn rate遇到平台就降低0.1\n",
    "\n",
    "# 不使用dropout"
   ]
  }
 ],
 "metadata": {
  "kernelspec": {
   "display_name": "Python 3",
   "language": "python",
   "name": "python3"
  }
 },
 "nbformat": 4,
 "nbformat_minor": 2
}
