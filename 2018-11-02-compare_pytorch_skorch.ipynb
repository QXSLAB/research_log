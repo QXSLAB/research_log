{
 "cells": [
  {
   "cell_type": "markdown",
   "metadata": {},
   "source": [
    "# 1.校准skorch版本和pytorch版本conv1d的性能\n",
    "现在存在的差异：skorch版本在conv1d最后一层中应用了softmax,skorch使用的是NLLloss\n",
    "\n",
    "jobs： modrec_pytorch_skorch_cmp\n",
    "pytorch code:train on 45db snr(74ef2e7e443436710c4c4c1e8d87a56ee1f917b3)\n",
    "\n",
    "job：modrec_skorch\n",
    "skorch code: add randomsearchcv(56abc29bb05a471a7037631430d08ed38feb14b3)\n",
    "sample number: 1000->100000\n",
    "\n",
    "\n",
    "## 1.1对于10db 信噪比的训练集（差异不明显，skorch略好）\n",
    "pytorch实现训练1个epoch后，测试集准确率为99.817， 训练3个epoch后，测试集准确率为99.986\n",
    "skorch实现训练1个epoch后，测试集准确率为99.98，训练3个epoch后，测试集准确率为99.99\n",
    "\n",
    "## 1.2对于5db 信噪比的训练集（差异不明显，skorch略好）\n",
    "pytorch测试集准确率为92.626（1 epoch）， 95.931（2 epoch），96.350（3 epoch）\n",
    "skorch测试集准确率为89.01（1 epoch），96.35（2 epoch），96.95（3 epoch）\n",
    "\n",
    "## 1.3 pytorch 5dB 3 epoch confusion matrix\n",
    "\n",
    "[[30000     0     0     0     0     0     0     0     0     0     0]\n",
    " [    0 26718     0     0    24     0     0  2528     0     0   730]\n",
    " [    0     0 30000     0     0     0     0     0     0     0     0]\n",
    " [    0     0     0 30000     0     0     0     0     0     0     0]\n",
    " [    0     1     0     0 29916     0     0     9     0     0    74]\n",
    " [    0     0     0     0     0 30000     0     0     0     0     0]\n",
    " [    0     0     0     0     0     0 30000     0     0     0     0]\n",
    " [    1  2212     0     0    53     0     0 23957     0     0  3777]\n",
    " [    0     0     0     0     0     0     0     0 30000     0     0]\n",
    " [    0     0     0     0     0     0     0     0     0 30000     0]\n",
    " [    0   499     0     0   130     0     0  2006     0     0 27365]]\n",
    " \n",
    " ## 1.4 skorch 5dB 3 epoch confusion matrix（差异不明显）\n",
    " [[30076     0     0     0     0     0     0     0     0     0     0]\n",
    " [    0 28374     0     0     1     0     0  1279     0     0   630]\n",
    " [    0     0 29880     0     0     0     0     0     0     0     0]\n",
    " [    0     0     0 29946     0     0     0     0     0     0     0]\n",
    " [    0     0     0     0 29835     0     0     2     0     0   100]\n",
    " [    0     0     0     0     0 29872     0     0     0     0     0]\n",
    " [    0     0     0     0     0     0 29998     0     0     0     0]\n",
    " [    0  1692     0     0    13     0     0 24179     0     0  4307]\n",
    " [    0     0     0     0     0     0     0     0 29800     0     0]\n",
    " [    0     0     0     0     0     0     0     0     0 29949     0]\n",
    " [    0   185     0     0    39     0     0   560     0     0 29283]]\n"
   ]
  }
 ],
 "metadata": {
  "kernelspec": {
   "display_name": "Python 3",
   "language": "python",
   "name": "python3"
  },
  "language_info": {
   "codemirror_mode": {
    "name": "ipython",
    "version": 3
   },
   "file_extension": ".py",
   "mimetype": "text/x-python",
   "name": "python",
   "nbconvert_exporter": "python",
   "pygments_lexer": "ipython3",
   "version": "3.6.3"
  }
 },
 "nbformat": 4,
 "nbformat_minor": 2
}
