{
 "cells": [
  {
   "cell_type": "markdown",
   "metadata": {},
   "source": [
    "1. EBGAN的模型\n",
    "\n",
    "    在此之前使用的模型（git cca62/ae410/672db）\n",
    "    \n",
    "        生成器使用的是infoGAN中生成器的架构\n",
    "        FC1024_BR-FC7x7x128_BR-(64)4dc2s_BR-(1)4dc2s_S\n",
    "        \n",
    "        判决器使用的是自编码器\n",
    "        包含了一个卷积层 一个压缩编码层 一个全连接层 一个逆卷积层\n",
    "        \n",
    "    在此之前使用的模型存在的问题（git cca62/ae410/672db）\n",
    "    \n",
    "        这个模型针对的是32x32的小尺度图像的，不适合用来做大尺度ism图像（256x256）\n",
    "    \n",
    "        生成器的模型深度太浅了，两层反卷积层，感受野大小只有4x4，而ISM频段视频图大小为256x256，其中的用频斑块估计大小为20-100左右，所以EBGAN生成的图片只有很细的结构，没有大块。\n",
    "        \n",
    "        ISM视频图中图片结构尺度变化非常大，应该使用highway结构，将大尺度特征和小尺度特征融合\n",
    "        \n",
    "        判决器的模型太浅了，经过一个卷积层后，图像尺度减半，编码层是对底层特征进行的编码，而没有对高层特征进行编码\n",
    "        \n",
    "        \n",
    "    借鉴DCGAN使用的模型，形成大尺度特征\n",
    "        \n",
    "    原始的EBGAN使用的模型\n",
    "    \n",
    "    生成256x256图片时使用的模型结构，pulling away term的原理\n",
    "    \n",
    "    MAGAN使用的模型\n",
    "    \n",
    "    数据集有问题 噪声太多了 数据预处理、构建新的数据集合\n",
    "    网络有问题 难以产生足够清晰的图像\n",
    "    \n",
    "    \n",
    "2. EBGAN的训练方法\n",
    "    \n",
    "    训练生成器时，计算MSE_Loss把G_detach了，这是否会导致生成器网络没有梯度，从而无法更新，需要debug"
   ]
  }
 ],
 "metadata": {
  "kernelspec": {
   "display_name": "Python 3",
   "language": "python",
   "name": "python3"
  },
  "language_info": {
   "codemirror_mode": {
    "name": "ipython",
    "version": 3
   },
   "file_extension": ".py",
   "mimetype": "text/x-python",
   "name": "python",
   "nbconvert_exporter": "python",
   "pygments_lexer": "ipython3",
   "version": "3.6.5"
  }
 },
 "nbformat": 4,
 "nbformat_minor": 2
}
