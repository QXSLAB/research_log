{
 "cells": [
  {
   "cell_type": "markdown",
   "metadata": {},
   "source": [
    "code main.py downloaded from main-v10.ipynb\n",
    "\n",
    "# Hyper Parameters\n",
    "CHANNEL_NUM = 10\n",
    "STATUS_LEN = 5\n",
    "AGENT_NUM = 5\n",
    "TASK_NUM = 100\n",
    "MAX_STEPS = 50\n",
    "REWARD_INTERVAL = 10\n",
    "N_ACTIONS = 3 + 3*CHANNEL_NUM\n",
    "N_STATES = CHANNEL_NUM*STATUS_LEN + CHANNEL_NUM + 1\n",
    "\n",
    "EPOCH_NUM = 1000\n",
    "PRINT_FREQ = 50\n",
    "\n",
    "BATCH_SIZE = 256\n",
    "LR = 0.01                   # learning rate\n",
    "EPSILON = 0.1              # greedy policy\n",
    "EPSILON_STEPS = int(0.8*AGENT_NUM*MAX_STEPS*EPOCH_NUM)\n",
    "GAMMA = 0.9                 # reward discount\n",
    "TARGET_REPLACE_ITER = 100   # target update frequency\n",
    "MEMORY_CAPACITY = int(0.1*AGENT_NUM*MAX_STEPS*EPOCH_NUM)\n",
    "\n",
    "C:\\ProgramData\\Anaconda3\\python.exe D:/jobs/rf_game/main.py\n",
    "Epoch:    0  -37.20, -38.20, -51.20, -37.20, -53.40, mean:-43.44, std:7.28\n",
    "Epoch:   50  -34.40, -32.40, -41.40, -49.20, -35.00, mean:-38.48, std:6.15\n",
    "Epoch:  100  -45.20, -30.20, -39.40, -29.00, -37.00, mean:-36.16, std:6.00\n",
    "Epoch:  150  -38.40, -38.20, -31.20, -45.00, -41.20, mean:-38.80, std:4.53\n",
    "Epoch:  200  -35.00, -34.00, -31.00, -36.40, -46.60, mean:-36.60, std:5.31\n",
    "Epoch:  250  -42.20, -36.20, -30.60, -30.60, -35.00, mean:-34.92, std:4.29\n",
    "Epoch:  300  -32.40, -31.40, -32.40, -28.40, -32.60, mean:-31.44, std:1.58\n",
    "Epoch:  350  -34.20, -33.40, -35.00, -24.00, -31.00, mean:-31.52, std:3.99\n",
    "Epoch:  400  -32.20, -32.20, -32.40, -34.20, -38.40, mean:-33.88, std:2.38\n",
    "Epoch:  450  -12.00, -32.60, -32.00, -31.00, -38.20, mean:-29.16, std:8.94\n",
    "Epoch:  500  -29.00, -29.20, -33.20, -36.00, -26.40, mean:-30.76, std:3.40\n",
    "Epoch:  550  -34.20, -31.00, -30.00, -30.20, -30.40, mean:-31.16, std:1.56\n",
    "Epoch:  600  -31.00, -29.00, -29.40, -30.00, -37.00, mean:-31.28, std:2.94\n",
    "Epoch:  650  -26.00, -33.00, -26.00, -32.00, -30.00, mean:-29.40, std:2.94\n",
    "Epoch:  700  -29.20, -28.20, -32.00, -30.00, -28.40, mean:-29.56, std:1.38\n",
    "Epoch:  750  -27.40, -27.20, -30.00, -29.20, -28.00, mean:-28.36, std:1.08\n",
    "Epoch:  800  -28.00, -28.00, -28.00, -27.00, -27.00, mean:-27.60, std:0.49\n",
    "Epoch:  850  -25.00, -25.00, -28.00, -28.00, -25.00, mean:-26.20, std:1.47\n",
    "Epoch:  900  -28.00, -26.00, -27.00, -26.20, -26.00, mean:-26.64, std:0.77\n",
    "Epoch:  950  -25.20, -28.20, -26.00, -26.00, -25.00, mean:-26.08, std:1.14\n",
    "\n",
    "# mean reward increase steadly\n",
    "# Increase EPOCH_NUM"
   ]
  }
 ],
 "metadata": {
  "kernelspec": {
   "display_name": "Python 3",
   "language": "python",
   "name": "python3"
  },
  "language_info": {
   "codemirror_mode": {
    "name": "ipython",
    "version": 3
   },
   "file_extension": ".py",
   "mimetype": "text/x-python",
   "name": "python",
   "nbconvert_exporter": "python",
   "pygments_lexer": "ipython3",
   "version": "3.6.5"
  }
 },
 "nbformat": 4,
 "nbformat_minor": 2
}
