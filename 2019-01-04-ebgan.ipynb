{
 "cells": [
  {
   "cell_type": "markdown",
   "metadata": {},
   "source": [
    "clone codes from https://github.com/znxlwm/pytorch-generative-model-collections\n",
    "\n",
    "torch.backends.cudnn.benchmark=True有什么用\n",
    "\n",
    "ebgan for ism monitor\n",
    "D_loss 0.04 G_loss 1.4\n",
    "使用的是原始的时频图没有进行变换\n",
    "archive 0026\n",
    "\n",
    "\n",
    "### 应该抹除时频图中的细节特征 亮的地方统一用亮斑表示 因为异常检测检测的是异常斑块 用频异常 而不关心数据的时变性\n",
    "\n",
    "\n",
    "更新git记录\n",
    "重新解压pytorch-generative-model-collection-master到/home/qxslab/ty/pytorch-generative-model\n",
    "新建git仓库\n",
    "然后将/home/qxslab/ty/ebgan/pytorch-generative-model-collection-master中更新过的文件加入进去\n",
    "\n",
    "使用训练了2000次的EBGAN模型，在测试集上的auc为0.34\n",
    "推测原因是：模型过拟合，使用该模型在训练集上的重构误差正常，跟训练过程中观测到的值一样。但是使用测试集中的正例样本，得到的重构误差就很大（loss也很大1.7），这说明模型过拟合了，训练次数过多，模型记住了训练集中数据样本的样子\n",
    "git commit 906e 'test anomaly score'\n",
    "\n",
    "使用ganomaly的训练框架 但是把EBGAN的模型加进去 训练过程中实时检测测试集上的auc\n",
    "\n",
    "最大的auc为0.841 但是随着训练过程的进行auc不能持续变好 而是出现了几个较大的auc 而后一直在auc略大于0.5附近\n",
    "训练过程中 D_loss一直在降低 G_loss一直在大于1（margin等于1） 即生成的样本一直很差 不能帮助D学习输入数据的分布\n",
    "git commit  ae410 'monitor auc while training'\n",
    "\n",
    "\n",
    "\n"
   ]
  }
 ],
 "metadata": {
  "kernelspec": {
   "display_name": "Python 3",
   "language": "python",
   "name": "python3"
  },
  "language_info": {
   "codemirror_mode": {
    "name": "ipython",
    "version": 3
   },
   "file_extension": ".py",
   "mimetype": "text/x-python",
   "name": "python",
   "nbconvert_exporter": "python",
   "pygments_lexer": "ipython3",
   "version": "3.6.5"
  }
 },
 "nbformat": 4,
 "nbformat_minor": 2
}
