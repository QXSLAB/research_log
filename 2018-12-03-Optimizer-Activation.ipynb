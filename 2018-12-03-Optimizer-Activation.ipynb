{
 "cells": [
  {
   "cell_type": "markdown",
   "metadata": {},
   "source": [
    "# 测试不同的激活函数和优化算法\n",
    "    \n",
    "    使用的数据集：qpsk_awgn_sps8_esno10.dat （sym128）\n",
    "    工作目录：D:/jobs/roll_off_optim_activation\n",
    "    归档：Archive 0021"
   ]
  }
 ],
 "metadata": {
  "kernelspec": {
   "display_name": "Python 3",
   "language": "python",
   "name": "python3"
  }
 },
 "nbformat": 4,
 "nbformat_minor": 2
}
