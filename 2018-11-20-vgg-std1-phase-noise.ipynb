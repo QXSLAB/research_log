{
 "cells": [
  {
   "cell_type": "markdown",
   "metadata": {},
   "source": [
    "# 构建带有相位噪声的射频数据集合\n",
    "\n",
    "\n",
    "# 使用VGG STD1学习带相位噪声的射频数据\n",
    "93% DQPSK和PSK8完全混淆， archive 0012\n",
    "81.8% DQPSK、PSK8以及QPSK几乎全部被误判为PSK8，archive 0013"
   ]
  }
 ],
 "metadata": {
  "kernelspec": {
   "display_name": "Python 3",
   "language": "python",
   "name": "python3"
  }
 },
 "nbformat": 4,
 "nbformat_minor": 2
}
