{
 "cells": [
  {
   "cell_type": "markdown",
   "metadata": {},
   "source": [
    "\n",
    "# 搭建6 GPU集群\n",
    "\n",
    "\n",
    "### 2.1 在3号服务器上安装深度学习开发环境，配置dask\n",
    "pip install dask distributed\n",
    "pip install dask-ml\n",
    "\n",
    "\n",
    "### 2.2 验证ROG的任务可以分发到3号服务器上\n",
    "ROG笔记本不能休眠，否则dask-scheduler服务会中断，3号服务器上的dask-worker会失去连接"
   ]
  }
 ],
 "metadata": {
  "kernelspec": {
   "display_name": "Python 3",
   "language": "python",
   "name": "python3"
  }
 },
 "nbformat": 4,
 "nbformat_minor": 2
}
