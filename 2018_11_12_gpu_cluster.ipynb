{
 "cells": [
  {
   "cell_type": "markdown",
   "metadata": {
    "collapsed": true
   },
   "source": [
    "# DaskDistributedBackend with 4 concurrent workers\n",
    "\n",
    "###  使用make_classification生成的假数据\n",
    "X, y = make_classification(1000000, 2048, n_informative=class_num, random_state=0)\n",
    "\n",
    "观察到的规律是第一个dask worker完成一个fit后，其他的dask-worker才会开始加载任务\n",
    "\n",
    "Fitting 3 folds for each of 6 candidates, totalling 18 fits\n",
    "[Parallel(n_jobs=-1)]: Using backend DaskDistributedBackend with 4 concurrent workers.\n",
    "[Parallel(n_jobs=-1)]: Done   5 tasks      | elapsed: 118.7min\n",
    "\n",
    "\n",
    "###  使用射频数据\n",
    "\n",
    "    data = scipy.io.loadmat(\n",
    "        \"D:/batch100000_symbols128_sps8_baud1_snr5.dat\",\n",
    "    )\n",
    "\n",
    "    features, labels = import_from_mat(data, 100000)\n",
    "    features = features.astype(np.float32)\n",
    "    labels = labels.astype(np.int64)\n",
    "    X = features\n",
    "    y = labels.reshape(-1)"
   ]
  }
 ],
 "metadata": {
  "kernelspec": {
   "display_name": "Python 3",
   "language": "python",
   "name": "python3"
  },
  "language_info": {
   "codemirror_mode": {
    "name": "ipython",
    "version": 2
   },
   "file_extension": ".py",
   "mimetype": "text/x-python",
   "name": "python",
   "nbconvert_exporter": "python",
   "pygments_lexer": "ipython2",
   "version": "2.7.6"
  }
 },
 "nbformat": 4,
 "nbformat_minor": 1
}
