{
 "cells": [
  {
   "cell_type": "markdown",
   "metadata": {},
   "source": [
    "# 使用vgg-std1识别滚降系数\n",
    "\n",
    "# 使用Simulink生成不同滚降系数的信号\n",
    "\n",
    "    调制格式QPSK，带宽1MHz\n",
    "    根升余弦，滚降系数0.3 0.5 0.7\n",
    "    样本量10万，每个样本128符号，8倍过采样\n",
    "    信噪比：50\n",
    "    加相位噪声\n",
    "    识别准确率100%\n",
    "    code: 57c94f35ef929e67d3af4d6ca1dcbf4d34df843c\n",
    "    result: archive 0014\n",
    "\n",
    "\n",
    "    调制格式QPSK，带宽1MHz\n",
    "    根升余弦，滚降系数0.3 0.4 0.5 0.6\n",
    "    样本量10万，每个样本128符号，8倍过采样\n",
    "    信噪比：10\n",
    "    加相位噪声\n",
    "    识别准确率 59.4%\n",
    "    code: 57c94f35ef929e67d3af4d6ca1dcbf4d34df843c\n",
    "    result: archive 0015\n",
    "    Best Confusion Matrix:\n",
    "     [[62 33  6  0]\n",
    "     [22 47 28  3]\n",
    "     [ 2 20 53 25]\n",
    "     [ 0  2 22 76]]    \n",
    "     \n",
    "    调制格式QPSK，带宽1MHz\n",
    "    根升余弦，滚降系数0.3 0.5\n",
    "    样本量10万，每个样本128符号，8倍过采样\n",
    "    信噪比：10\n",
    "    加相位噪声\n",
    "    识别准确率 86.5%\n",
    "    data: qpsk_roll_3_4_5_6_snr10.dat\n",
    "    code: 57c94f35ef929e67d3af4d6ca1dcbf4d34df843c\n",
    "    result: archive 0016\n",
    "    [[88 12]\n",
    "     [15 85]]"
   ]
  }
 ],
 "metadata": {
  "kernelspec": {
   "display_name": "Python 3",
   "language": "python",
   "name": "python3"
  }
 },
 "nbformat": 4,
 "nbformat_minor": 2
}
