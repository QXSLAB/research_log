{
 "cells": [
  {
   "cell_type": "markdown",
   "metadata": {},
   "source": [
    "# pytorch CrossEntropyLoss 的数值稳定性问题\n",
    "CrossEntropyLoss为了 softmax, log， nllloss 三个步骤\n",
    "\n",
    "以前直接使用CrossEntropy目前没有发现数值不稳定的问题\n",
    "\n",
    "先 softmax, 再log + nllloss偶尔出现nan\n",
    "\n",
    "先 log_softmax, 再nllloss就可以了\n",
    "\n",
    "\n",
    "NeuralNetClassifier中的get_loss中存在torch.log(y_pred),并进行NLL\n",
    "所以log+softmax+NeuralNetClassifier会存在问题\n",
    "\n",
    "继承NeuralNetClassifier，重新写get_loss函数，去掉torch.log(y_pred)\n",
    "\n",
    "使用0.005和0.01的学习率，vgg-std1实现训练准确率>99.44%"
   ]
  }
 ],
 "metadata": {
  "kernelspec": {
   "display_name": "Python 3",
   "language": "python",
   "name": "python3"
  }
 },
 "nbformat": 4,
 "nbformat_minor": 2
}
