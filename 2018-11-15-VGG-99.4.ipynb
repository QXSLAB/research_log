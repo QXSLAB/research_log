{
 "cells": [
  {
   "cell_type": "markdown",
   "metadata": {},
   "source": [
    "# 研究VGG的原理及实现 捕捉长特征\n",
    "参考 Over the air Deep learning Based Radio Signal Classification\n",
    "\n",
    "### 网络实现1\n",
    "网络1：论文原生的VGG（每个卷积层中不适用批标准化，倒数第三个和第二个全连接层使用SELU）\n",
    "\n",
    "\n",
    "问题：使用100000样本量训练，第一个epoch中倒数7150左右的batch的validation loss出现nan\n",
    "\n",
    "### 网络实现2（准确率可达到99.46% @5dB）\n",
    "网络2：每个卷积层中使用批标准化和ReLU，倒数第三个和第二个全连接层使用ReLU\n",
    "\n",
    "问题：使用100000样本量训练，有时候可以正常训练，有时候还是会出现nan\n",
    "\n",
    "code: vgg with loss nan 8761126e51e3d8829ddf2d8d12353802c58226a1\n",
    "\n",
    "result: Archive 0009"
   ]
  }
 ],
 "metadata": {
  "kernelspec": {
   "display_name": "Python 3",
   "language": "python",
   "name": "python3"
  }
 },
 "nbformat": 4,
 "nbformat_minor": 2
}
