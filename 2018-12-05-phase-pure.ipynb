{
 "cells": [
  {
   "cell_type": "markdown",
   "metadata": {},
   "source": [
    "# 使用resnet18识别是否存在相位噪声\n",
    "\n",
    "    roll-off:0.3 0.5\n",
    "    esno:10/12/14/16\n",
    "    相位噪声模拟：一个样本中相位保持不变，不同样本中加入随机相位旋转\n",
    "    resnet18判别准确率92.8%"
   ]
  }
 ],
 "metadata": {
  "kernelspec": {
   "display_name": "Python 3",
   "language": "python",
   "name": "python3"
  }
 },
 "nbformat": 4,
 "nbformat_minor": 2
}
