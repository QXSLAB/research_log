{
 "cells": [
  {
   "cell_type": "markdown",
   "metadata": {},
   "source": [
    "# Finish RandomSearchCV on conv1d for 5dB using gpu cluster\n",
    "代码：da51af7562ab3a59df97bc861c1dbd9de7d69e7e\n",
    "结果：Archive 008\n",
    "最优学习率：0.05\n",
    "最佳性能：0.9717\n",
    "使用了交叉验证和100000样本量保证了结果的可靠性"
   ]
  }
 ],
 "metadata": {
  "kernelspec": {
   "display_name": "Python 3",
   "language": "python",
   "name": "python3"
  }
 },
 "nbformat": 4,
 "nbformat_minor": 2
}
