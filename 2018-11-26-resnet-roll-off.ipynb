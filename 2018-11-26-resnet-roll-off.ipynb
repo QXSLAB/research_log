{
 "cells": [
  {
   "cell_type": "markdown",
   "metadata": {},
   "source": [
    "# ResNet识别滚降系数\n",
    "\n",
    "    调制格式QPSK，带宽1MHz\n",
    "    根升余弦，滚降系数0.3 0.5\n",
    "    样本量10万，每个样本128符号，8倍过采样\n",
    "    信噪比：10\n",
    "    加相位噪声\n",
    "    \n",
    "    code: resnet for roll off identification（0348c2118f3ead3f033ba932563120105c5432d6）\n",
    "    result: 0017\n",
    "    \n",
    "    准确率\n",
    "    resnet18 85.84%\n",
    "    resnet34 85.50%\n",
    "    resnet50 85.40%\n",
    "    resnet101 86.22%\n",
    "    \n",
    "    对比\n",
    "    vgg-std1 86.5%\n",
    "    \n",
    "## 结论：网络深度影响不大"
   ]
  }
 ],
 "metadata": {
  "kernelspec": {
   "display_name": "Python 3",
   "language": "python",
   "name": "python3"
  }
 },
 "nbformat": 4,
 "nbformat_minor": 2
}
